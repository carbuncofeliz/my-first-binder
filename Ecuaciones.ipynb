from manim import *
%%manim -v WARNING -qm CircleExample
class CircleExample(Scene):
    def construct(self):
        circle = Circle(color=GREEN, fill_opacity=0.5)
        eq1 = MathTex(r"3x-3=x+5")
        eq2 = MathTex(r"3x-3+3=x+5+3")
        eq3 = MathTex(r"3x=x+8")
        eq4 = MathTex(r"3x-x=x+8-x")
        eq5 = MathTex(r"2x=8")
        eq6 = MathTex(r"\frac{2x}{2}=\frac{8}{2}")
        eq7 = MathTex(r"x=4")
        
        self.play(Write(eq1), run_time=3)
        self.play(TransformMatchingTex(eq1, eq2))
        self.wait()
        self.play(TransformMatchingShapes(eq2, eq3))
        self.wait()
        self.play(TransformMatchingShapes(eq3, eq4))
        self.wait()
        self.play(TransformMatchingShapes(eq4, eq5))
        self.wait()
        self.play(TransformMatchingShapes(eq5, eq6))
        self.wait()
        self.play(TransformMatchingShapes(eq6, eq7))
        self.wait()
        self.play(Create(circle))

%%manim -v WARNING -qm SquareExample
class SquareExample(Scene):
    def construct(self):
        sq = Square(color=GREEN, fill_opacity=0.5)
        eq1 = MathTex(r"3x+1=5")
        eq2 = MathTex(r"3x+1-1=5-1")
        eq3 = MathTex(r"3x=4")
        eq4 = MathTex(r"\frac{3x}{3}=\frac{4}{3}")
        eq5 = MathTex(r"x=\frac{4}{3}")
        
        self.play(Write(eq1), run_time=3)
        self.play(TransformMatchingTex(eq1, eq2))
        self.wait()
        self.play(TransformMatchingShapes(eq2, eq3))
        self.wait()
        self.play(TransformMatchingShapes(eq3, eq4))
        self.wait()
        self.play(TransformMatchingShapes(eq4, eq5))
        self.wait()
        self.play(Create(sq))


%%manim -v WARNING -qm LineExample
class LineExample(Scene):
    def construct(self):
        l1= Line([-2,-2,0],[2,2,0],color=BLUE)
        l2= Line([-2,2,0],[2,-2,0],color=YELLOW)
        dot=Dot([0,0,0],color=RED)
        self.play(Create(l1))
        self.wait()
        self.play(Create(l2))
        self.wait()
        self.play(Create(dot))

%%manim -v WARNING -qm FunctionExample
class FunctionExample(Scene):
    def construct(self):
        func1 = FunctionGraph(
            lambda t: t+5.,
            x_range=[-4,4],
            color=RED,
        )

        func2 = FunctionGraph(
            lambda t: -2.*t-1.,
            x_range=[-4,4],
            color=BLUE,
        ).move_to([0,-1,0])

        self.play(Create(func1),run_time=3)
        self.wait()
        self.play(Create(func2),run_time=3)


