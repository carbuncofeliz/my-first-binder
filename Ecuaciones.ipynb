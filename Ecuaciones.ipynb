from manim import *
%%manim -v WARNING -qm CircleExample
class CircleExample(Scene):
    def construct(self):
        circle = Circle(color=GREEN, fill_opacity=0.5)
        eq1 = MathTex(r"3x-3=x+5")
        eq2 = MathTex(r"3x-3+3=x+5+3")
        eq3 = MathTex(r"3x=x+8")
        eq4 = MathTex(r"3x-x=x+8-x")
        eq5 = MathTex(r"2x=8")
        eq6 = MathTex(r"\frac{2x}{2}=\frac{8}{2}")
        eq7 = MathTex(r"x=4")
        
        self.play(Write(eq1), run_time=3)
        self.play(TransformMatchingTex(eq1, eq2))
        self.wait()
        self.play(TransformMatchingShapes(eq2, eq3))
        self.wait()
        self.play(TransformMatchingShapes(eq3, eq4))
        self.wait()
        self.play(TransformMatchingShapes(eq4, eq5))
        self.wait()
        self.play(TransformMatchingShapes(eq5, eq6))
        self.wait()
        self.play(TransformMatchingShapes(eq6, eq7))
        self.wait()
        self.play(Create(circle))
